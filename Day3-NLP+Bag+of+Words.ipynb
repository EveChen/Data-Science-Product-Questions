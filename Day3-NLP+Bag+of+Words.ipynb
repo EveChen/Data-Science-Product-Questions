{
 "cells": [
  {
   "cell_type": "code",
   "execution_count": 8,
   "metadata": {
    "collapsed": true
   },
   "outputs": [],
   "source": [
    "import pandas as pd\n",
    "import numpy as np\n",
    "import re\n",
    "from bs4 import BeautifulSoup\n",
    "import nltk"
   ]
  },
  {
   "cell_type": "code",
   "execution_count": 4,
   "metadata": {},
   "outputs": [
    {
     "data": {
      "text/plain": [
       "(25000, 3)"
      ]
     },
     "execution_count": 4,
     "metadata": {},
     "output_type": "execute_result"
    }
   ],
   "source": [
    "# Read train data\n",
    "train = pd.read_csv(\"labeledTrainData.tsv\", delimiter = \"\\t\")\n",
    "train.shape"
   ]
  },
  {
   "cell_type": "code",
   "execution_count": 5,
   "metadata": {},
   "outputs": [
    {
     "data": {
      "text/plain": [
       "array(['id', 'sentiment', 'review'], dtype=object)"
      ]
     },
     "execution_count": 5,
     "metadata": {},
     "output_type": "execute_result"
    }
   ],
   "source": [
    "train.columns.values"
   ]
  },
  {
   "cell_type": "code",
   "execution_count": 7,
   "metadata": {},
   "outputs": [
    {
     "data": {
      "text/plain": [
       "\"With all this stuff going down at the moment with MJ i've started listening to his music, watching the odd documentary here and there, watched The Wiz and watched Moonwalker again. Maybe i just want to get a certain insight into this guy who i thought was really cool in the eighties just to maybe make up my mind whether he is guilty or innocent. Moonwalker is part biography, part feature film which i remember going to see at the cinema when it was originally released. Some of it has subtle messages about MJ's feeling towards the press and also the obvious message of drugs are bad m'kay.<br /><br />Visually impressive but of course this is all about Michael Jackson so unless you remotely like MJ in anyway then you are going to hate this and find it boring. Some may call MJ an egotist for consenting to the making of this movie BUT MJ and most of his fans would say that he made it for the fans which if true is really nice of him.<br /><br />The actual feature film bit when it finally starts is only on for 20 minutes or so excluding the Smooth Criminal sequence and Joe Pesci is convincing as a psychopathic all powerful drug lord. Why he wants MJ dead so bad is beyond me. Because MJ overheard his plans? Nah, Joe Pesci's character ranted that he wanted people to know it is he who is supplying drugs etc so i dunno, maybe he just hates MJ's music.<br /><br />Lots of cool things in this like MJ turning into a car and a robot and the whole Speed Demon sequence. Also, the director must have had the patience of a saint when it came to filming the kiddy Bad sequence as usually directors hate working with one kid let alone a whole bunch of them performing a complex dance scene.<br /><br />Bottom line, this movie is for people who like MJ on one level or another (which i think is most people). If not, then stay away. It does try and give off a wholesome message and ironically MJ's bestest buddy in this movie is a girl! Michael Jackson is truly one of the most talented people ever to grace this planet but is he guilty? Well, with all the attention i've gave this subject....hmmm well i don't know because people can be different behind closed doors, i know this for a fact. He is either an extremely nice but stupid guy or one of the most sickest liars. I hope he is not the latter.\""
      ]
     },
     "execution_count": 7,
     "metadata": {},
     "output_type": "execute_result"
    }
   ],
   "source": [
    "train[\"review\"][0]"
   ]
  },
  {
   "cell_type": "code",
   "execution_count": 10,
   "metadata": {},
   "outputs": [],
   "source": [
    "# Try to clean train[\"review\"][0]\n",
    "removehtml = BeautifulSoup(train[\"review\"][0])\n",
    "removenonalphabet = re.sub(\"[^a-zA-Z]\", \" \", removehtml.get_text())\n",
    "lowersplit = removenonalphabet.lower().split()\n",
    "\n",
    "from nltk.corpus import stopwords\n",
    "removestop = [w for w in lowersplit if not w in stopwords.words(\"english\")]"
   ]
  },
  {
   "cell_type": "code",
   "execution_count": 12,
   "metadata": {},
   "outputs": [
    {
     "name": "stdout",
     "output_type": "stream",
     "text": [
      "Reviews now 5000 in 25000\n",
      "\n",
      "Reviews now 10000 in 25000\n",
      "\n",
      "Reviews now 15000 in 25000\n",
      "\n",
      "Reviews now 20000 in 25000\n",
      "\n",
      "Reviews now 25000 in 25000\n",
      "\n"
     ]
    }
   ],
   "source": [
    "#Make function to clean data including remove html, punctuations, numbers, stopwords, lower case and split\n",
    "def cleandata(raw_data):\n",
    "    removehtml = BeautifulSoup(raw_data).get_text()\n",
    "    removenonalphabet = re.sub(\"[^a-zA-Z]\", \" \", removehtml)\n",
    "    lowersplit = removenonalphabet.lower().split()\n",
    "    stops = set(stopwords.words(\"english\"))\n",
    "    removestop = [w for w in lowersplit if not w in stops]\n",
    "    return(\" \".join(removestop))\n",
    "\n",
    "# Get the clean_train data\n",
    "clean_train = []\n",
    "train_size = train[\"review\"].size\n",
    "for i in xrange(0, train_size):\n",
    "    if (i+1) % 5000 == 0:\n",
    "        print \"Reviews now %d in %d\\n\" % (i+1, train_size)\n",
    "    clean_train.append(cleandata(train[\"review\"][i]))"
   ]
  },
  {
   "cell_type": "code",
   "execution_count": 14,
   "metadata": {},
   "outputs": [
    {
     "name": "stdout",
     "output_type": "stream",
     "text": [
      "CountVectorizer(analyzer='word', binary=False, decode_error=u'strict',\n",
      "        dtype=<type 'numpy.int64'>, encoding=u'utf-8', input=u'content',\n",
      "        lowercase=True, max_df=1.0, max_features=3000, min_df=1,\n",
      "        ngram_range=(1, 1), preprocessor=None, stop_words=None,\n",
      "        strip_accents=None, token_pattern=u'(?u)\\\\b\\\\w\\\\w+\\\\b',\n",
      "        tokenizer=None, vocabulary=None)\n",
      "\n",
      "\n",
      "[[0 0 0 ..., 0 0 0]\n",
      " [0 0 0 ..., 0 0 0]\n",
      " [0 0 0 ..., 0 0 0]\n",
      " ..., \n",
      " [0 0 0 ..., 0 0 0]\n",
      " [0 0 0 ..., 0 0 0]\n",
      " [0 0 0 ..., 0 0 0]]\n"
     ]
    }
   ],
   "source": [
    "#Make vectorize & features\n",
    "from sklearn.feature_extraction.text import CountVectorizer\n",
    "vectorizer = CountVectorizer(analyzer = \"word\", stop_words = None, preprocessor = None, \\\n",
    "                             tokenizer = None, max_features = 3000)\n",
    "print vectorizer\n",
    "print(\"\\n\")\n",
    "\n",
    "train_features = vectorizer.fit_transform(clean_train)\n",
    "train_features = train_features.toarray()\n",
    "print train_features"
   ]
  },
  {
   "cell_type": "code",
   "execution_count": 27,
   "metadata": {},
   "outputs": [
    {
     "name": "stdout",
     "output_type": "stream",
     "text": [
      "[ 187  454 1259 ...,  740  518  147]\n",
      "\n",
      "\n",
      "abandoned 187\n",
      "ability 454\n",
      "able 1259\n",
      "absolute 352\n",
      "absolutely 1485\n"
     ]
    }
   ],
   "source": [
    "#List the features\n",
    "vocab = vectorizer.get_feature_names()\n",
    "dist = np.sum(train_features, axis = 0)\n",
    "print dist\n",
    "print(\"\\n\")\n",
    "\n",
    "for tag, count in zip(vocab, dist)[:5]:\n",
    "    print tag, count"
   ]
  },
  {
   "cell_type": "code",
   "execution_count": 18,
   "metadata": {
    "collapsed": true
   },
   "outputs": [],
   "source": [
    "#Apply random forest\n",
    "from sklearn.ensemble import RandomForestClassifier\n",
    "model_rf = RandomForestClassifier(n_estimators = 100)\n",
    "model_rf = model_rf.fit(train_features, train[\"sentiment\"])\n"
   ]
  },
  {
   "cell_type": "code",
   "execution_count": 21,
   "metadata": {},
   "outputs": [
    {
     "name": "stdout",
     "output_type": "stream",
     "text": [
      "Review now 5000 of total Review 25000/n\n",
      "Review now 10000 of total Review 25000/n\n",
      "Review now 15000 of total Review 25000/n\n",
      "Review now 20000 of total Review 25000/n\n",
      "Review now 25000 of total Review 25000/n\n"
     ]
    }
   ],
   "source": [
    "#Read test data\n",
    "test = pd.read_csv(\"testData.tsv\", delimiter = \"\\t\")\n",
    "\n",
    "test_size = test[\"review\"].size\n",
    "clean_test = []\n",
    "for i in xrange(0, test_size):\n",
    "    if ((i+1) % 5000 == 0):\n",
    "        print \"Review now %d of total Review %d/n\" % (i+1, test_size)\n",
    "    clean_test.append(cleandata(test[\"review\"][i]))\n",
    "\n",
    "test_features = vectorizer.transform(clean_test)\n",
    "test_features = test_features.toarray()\n",
    "\n",
    "result = model_rf.predict(test_features)"
   ]
  },
  {
   "cell_type": "code",
   "execution_count": 28,
   "metadata": {},
   "outputs": [
    {
     "name": "stdout",
     "output_type": "stream",
     "text": [
      "         id  sentiment\n",
      "0  12311_10          1\n",
      "1    8348_2          0\n",
      "2    5828_4          1\n",
      "3    7186_2          1\n",
      "4   12128_7          1\n"
     ]
    }
   ],
   "source": [
    "#Create outputs\n",
    "output = pd.DataFrame(data = {\"id\": test[\"id\"], \"sentiment\": result})\n",
    "output.to_csv(\"Practice2.csv\", index = False, quoting = 3)\n",
    "print output[:5]"
   ]
  },
  {
   "cell_type": "code",
   "execution_count": null,
   "metadata": {
    "collapsed": true
   },
   "outputs": [],
   "source": []
  },
  {
   "cell_type": "code",
   "execution_count": null,
   "metadata": {
    "collapsed": true
   },
   "outputs": [],
   "source": []
  },
  {
   "cell_type": "code",
   "execution_count": null,
   "metadata": {
    "collapsed": true
   },
   "outputs": [],
   "source": []
  },
  {
   "cell_type": "code",
   "execution_count": null,
   "metadata": {
    "collapsed": true
   },
   "outputs": [],
   "source": []
  },
  {
   "cell_type": "code",
   "execution_count": null,
   "metadata": {
    "collapsed": true
   },
   "outputs": [],
   "source": []
  },
  {
   "cell_type": "code",
   "execution_count": null,
   "metadata": {
    "collapsed": true
   },
   "outputs": [],
   "source": []
  }
 ],
 "metadata": {
  "kernelspec": {
   "display_name": "Python 2",
   "language": "python",
   "name": "python2"
  },
  "language_info": {
   "codemirror_mode": {
    "name": "ipython",
    "version": 2
   },
   "file_extension": ".py",
   "mimetype": "text/x-python",
   "name": "python",
   "nbconvert_exporter": "python",
   "pygments_lexer": "ipython2",
   "version": "2.7.14"
  }
 },
 "nbformat": 4,
 "nbformat_minor": 2
}
